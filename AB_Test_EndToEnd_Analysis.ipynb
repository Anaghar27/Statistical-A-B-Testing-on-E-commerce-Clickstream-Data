{
 "cells": [
  {
   "cell_type": "code",
   "execution_count": null,
   "id": "f9f06a89-bdb5-4737-9758-cf3599ed687b",
   "metadata": {},
   "outputs": [],
   "source": [
    "# pip install pyspark findspark notebook"
   ]
  },
  {
   "cell_type": "markdown",
   "id": "b6722888-d29e-442c-85d3-705fa7fe3c77",
   "metadata": {},
   "source": [
    "## Import the libraries"
   ]
  },
  {
   "cell_type": "code",
   "execution_count": 1,
   "id": "27e9503d-b025-41e5-a8a7-4d96a0f41aa1",
   "metadata": {},
   "outputs": [],
   "source": [
    "import findspark\n",
    "import os\n",
    "\n",
    "os.environ[\"JAVA_HOME\"] = \"/opt/homebrew/opt/openjdk@17\"\n",
    "os.environ[\"SPARK_HOME\"] = \"/opt/homebrew/Cellar/apache-spark/4.0.1/libexec\"\n",
    "\n",
    "findspark.init()"
   ]
  },
  {
   "cell_type": "code",
   "execution_count": 2,
   "id": "66dcce36-fd4e-479e-8cda-01d1d50af168",
   "metadata": {},
   "outputs": [
    {
     "name": "stderr",
     "output_type": "stream",
     "text": [
      "WARNING: Using incubator modules: jdk.incubator.vector\n",
      "Using Spark's default log4j profile: org/apache/spark/log4j2-defaults.properties\n",
      "25/10/02 18:16:58 WARN Utils: Your hostname, Anaghas-MacBook-Pro.local, resolves to a loopback address: 127.0.0.1; using 10.0.0.162 instead (on interface en0)\n",
      "25/10/02 18:16:58 WARN Utils: Set SPARK_LOCAL_IP if you need to bind to another address\n",
      "Using Spark's default log4j profile: org/apache/spark/log4j2-defaults.properties\n",
      "Setting default log level to \"WARN\".\n",
      "To adjust logging level use sc.setLogLevel(newLevel). For SparkR, use setLogLevel(newLevel).\n",
      "25/10/02 18:16:58 WARN NativeCodeLoader: Unable to load native-hadoop library for your platform... using builtin-java classes where applicable\n"
     ]
    },
    {
     "name": "stdout",
     "output_type": "stream",
     "text": [
      "Spark version: 4.0.1\n"
     ]
    }
   ],
   "source": [
    "from pyspark.sql import SparkSession\n",
    "\n",
    "spark = SparkSession.builder \\\n",
    "    .appName(\"EcommerceABTesting\") \\\n",
    "    .master(\"local[*]\") \\\n",
    "    .config(\"spark.driver.memory\", \"8g\") \\\n",
    "    .config(\"spark.executor.memory\", \"8g\") \\\n",
    "    .config(\"spark.sql.execution.arrow.pyspark.enabled\", \"true\") \\\n",
    "    .getOrCreate()\n",
    "\n",
    "print(\"Spark version:\", spark.version)"
   ]
  },
  {
   "cell_type": "markdown",
   "id": "852aac49-dd11-4d46-b118-7e9e777a1283",
   "metadata": {},
   "source": [
    "## 1. Load the data"
   ]
  },
  {
   "cell_type": "code",
   "execution_count": 3,
   "id": "f31eaa28-8e6f-40e0-ba7a-146bb4fec5b2",
   "metadata": {},
   "outputs": [
    {
     "name": "stderr",
     "output_type": "stream",
     "text": [
      "[Stage 1:===================================================>     (61 + 7) / 68]\r"
     ]
    },
    {
     "name": "stdout",
     "output_type": "stream",
     "text": [
      "root\n",
      " |-- event_time: timestamp (nullable = true)\n",
      " |-- event_type: string (nullable = true)\n",
      " |-- product_id: integer (nullable = true)\n",
      " |-- category_id: long (nullable = true)\n",
      " |-- category_code: string (nullable = true)\n",
      " |-- brand: string (nullable = true)\n",
      " |-- price: double (nullable = true)\n",
      " |-- user_id: integer (nullable = true)\n",
      " |-- user_session: string (nullable = true)\n",
      "\n"
     ]
    },
    {
     "name": "stderr",
     "output_type": "stream",
     "text": [
      "                                                                                \r"
     ]
    }
   ],
   "source": [
    "df = spark.read.csv(\"data/2019-Nov.csv\", header=True, inferSchema=True)\n",
    "df.printSchema()"
   ]
  },
  {
   "cell_type": "code",
   "execution_count": 4,
   "id": "f8e3b0c2-1776-424c-a410-1a24b6252b54",
   "metadata": {},
   "outputs": [
    {
     "name": "stdout",
     "output_type": "stream",
     "text": [
      "Data loaded:\n",
      "+-------------------+----------+----------+-------------------+--------------------+--------+------+---------+--------------------+\n",
      "|         event_time|event_type|product_id|        category_id|       category_code|   brand| price|  user_id|        user_session|\n",
      "+-------------------+----------+----------+-------------------+--------------------+--------+------+---------+--------------------+\n",
      "|2019-10-31 20:00:00|      view|   1003461|2053013555631882655|electronics.smart...|  xiaomi|489.07|520088904|4d3b30da-a5e4-49d...|\n",
      "|2019-10-31 20:00:00|      view|   5000088|2053013566100866035|appliances.sewing...|  janome|293.65|530496790|8e5f4f83-366c-4f7...|\n",
      "|2019-10-31 20:00:01|      view|  17302664|2053013553853497655|                NULL|   creed| 28.31|561587266|755422e7-9040-477...|\n",
      "|2019-10-31 20:00:01|      view|   3601530|2053013563810775923|appliances.kitche...|      lg|712.87|518085591|3bfb58cd-7892-48c...|\n",
      "|2019-10-31 20:00:01|      view|   1004775|2053013555631882655|electronics.smart...|  xiaomi|183.27|558856683|313628f1-68b8-460...|\n",
      "|2019-10-31 20:00:01|      view|   1306894|2053013558920217191|  computers.notebook|      hp|360.09|520772685|816a59f3-f5ae-4cc...|\n",
      "|2019-10-31 20:00:01|      view|   1306421|2053013558920217191|  computers.notebook|      hp|514.56|514028527|df8184cc-3694-454...|\n",
      "|2019-10-31 20:00:02|      view|  15900065|2053013558190408249|                NULL| rondell| 30.86|518574284|5e6ef132-4d7c-473...|\n",
      "|2019-10-31 20:00:02|      view|  12708937|2053013553559896355|                NULL|michelin| 72.72|532364121|0a899268-31eb-46d...|\n",
      "|2019-10-31 20:00:02|      view|   1004258|2053013555631882655|electronics.smart...|   apple|732.07|532647354|d2d3d2c6-631d-489...|\n",
      "|2019-10-31 20:00:03|      view|  17200570|2053013559792632471|furniture.living_...|    NULL|437.33|518780843|aa806835-b14c-45a...|\n",
      "|2019-10-31 20:00:03|      view|   2701517|2053013563911439225|appliances.kitche...|    NULL|155.11|518427361|c89b0d96-247f-404...|\n",
      "|2019-10-31 20:00:03|      view|  16700260|2053013559901684381|furniture.kitchen...|    NULL| 31.64|566255262|173d7b72-1db7-463...|\n",
      "|2019-10-31 20:00:04|      view|  34600011|2060981320581906480|                NULL|    NULL| 20.54|512416379|4dfe2c67-e537-4dc...|\n",
      "|2019-10-31 20:00:05|      view|   4600658|2053013563944993659|appliances.kitche...| samsung|411.83|526595547|aab33a9a-29c3-4d5...|\n",
      "|2019-10-31 20:00:06|      view|  24900193|2053013562183385881|                NULL|    NULL|  1.09|512651494|f603c815-f51a-46f...|\n",
      "|2019-10-31 20:00:07|      view|  27400066|2053013563391345499|                NULL|    NULL|  8.55|551061950|3f6112f1-5695-4e8...|\n",
      "|2019-10-31 20:00:07|      view|   5100503|2053013553375346967|                NULL|  xiaomi| 22.68|520037415|f54fa96a-f3f2-43a...|\n",
      "|2019-10-31 20:00:07|      view|   1004566|2053013555631882655|electronics.smart...|  huawei|164.84|566265908|52c2c76c-b79e-479...|\n",
      "|2019-10-31 20:00:08|      view|   1307115|2053013558920217191|  computers.notebook|      hp|411.59|514028527|df8184cc-3694-454...|\n",
      "+-------------------+----------+----------+-------------------+--------------------+--------+------+---------+--------------------+\n",
      "only showing top 20 rows\n"
     ]
    }
   ],
   "source": [
    "print(\"Data loaded:\")\n",
    "df.show(20)"
   ]
  },
  {
   "cell_type": "code",
   "execution_count": 5,
   "id": "65f6ad1f-5a27-444f-831d-b1d7c42f8b52",
   "metadata": {},
   "outputs": [
    {
     "name": "stderr",
     "output_type": "stream",
     "text": [
      "                                                                                \r"
     ]
    }
   ],
   "source": [
    "df_all = spark.read.csv(\n",
    "    [\"data/2019-Oct.csv\", \"data/2019-Nov.csv\"],\n",
    "    header=True,\n",
    "    inferSchema=True\n",
    ")"
   ]
  },
  {
   "cell_type": "code",
   "execution_count": 6,
   "id": "9d65f616-0e51-47df-ab15-109cceca874c",
   "metadata": {},
   "outputs": [
    {
     "name": "stdout",
     "output_type": "stream",
     "text": [
      "Complete Data loaded:\n",
      "+-------------------+----------+----------+-------------------+--------------------+--------+-------+---------+--------------------+\n",
      "|         event_time|event_type|product_id|        category_id|       category_code|   brand|  price|  user_id|        user_session|\n",
      "+-------------------+----------+----------+-------------------+--------------------+--------+-------+---------+--------------------+\n",
      "|2019-09-30 20:00:00|      view|  44600062|2103807459595387724|                NULL|shiseido|  35.79|541312140|72d76fde-8bb3-4e0...|\n",
      "|2019-09-30 20:00:00|      view|   3900821|2053013552326770905|appliances.enviro...|    aqua|   33.2|554748717|9333dfbd-b87a-470...|\n",
      "|2019-09-30 20:00:01|      view|  17200506|2053013559792632471|furniture.living_...|    NULL|  543.1|519107250|566511c2-e2e3-422...|\n",
      "|2019-09-30 20:00:01|      view|   1307067|2053013558920217191|  computers.notebook|  lenovo| 251.74|550050854|7c90fc70-0e80-459...|\n",
      "|2019-09-30 20:00:04|      view|   1004237|2053013555631882655|electronics.smart...|   apple|1081.98|535871217|c6bd7419-2748-4c5...|\n",
      "|2019-09-30 20:00:05|      view|   1480613|2053013561092866779|   computers.desktop|  pulser| 908.62|512742880|0d0d91c2-c9c2-4e8...|\n",
      "|2019-09-30 20:00:08|      view|  17300353|2053013553853497655|                NULL|   creed| 380.96|555447699|4fe811e9-91de-46d...|\n",
      "|2019-09-30 20:00:08|      view|  31500053|2053013558031024687|                NULL|luminarc|  41.16|550978835|6280d577-25c8-414...|\n",
      "|2019-09-30 20:00:10|      view|  28719074|2053013565480109009|  apparel.shoes.keds|   baden| 102.71|520571932|ac1cd4e5-a3ce-422...|\n",
      "|2019-09-30 20:00:11|      view|   1004545|2053013555631882655|electronics.smart...|  huawei| 566.01|537918940|406c46ed-90a4-478...|\n",
      "|2019-09-30 20:00:11|      view|   2900536|2053013554776244595|appliances.kitche...|elenberg|  51.46|555158050|b5bdd0b3-4ca2-4c5...|\n",
      "|2019-09-30 20:00:11|      view|   1005011|2053013555631882655|electronics.smart...| samsung| 900.64|530282093|50a293fb-5940-41b...|\n",
      "|2019-09-30 20:00:13|      view|   3900746|2053013552326770905|appliances.enviro...|   haier| 102.38|555444559|98b88fa0-d8fa-4b9...|\n",
      "|2019-09-30 20:00:15|      view|  44600062|2103807459595387724|                NULL|shiseido|  35.79|541312140|72d76fde-8bb3-4e0...|\n",
      "|2019-09-30 20:00:16|      view|  13500240|2053013557099889147|furniture.bedroom...|     brw|  93.18|555446365|7f0062d8-ead0-4e0...|\n",
      "|2019-09-30 20:00:17|      view|  23100006|2053013561638126333|                NULL|    NULL| 357.79|513642368|17566c27-0a8f-450...|\n",
      "|2019-09-30 20:00:18|      view|   1801995|2053013554415534427|electronics.video.tv|   haier| 193.03|537192226|e3151795-c355-4ef...|\n",
      "|2019-09-30 20:00:18|      view|  10900029|2053013555069845885|appliances.kitche...|   bosch|  58.95|519528062|901b9e3c-3f8f-414...|\n",
      "|2019-09-30 20:00:19|      view|   1306631|2053013558920217191|  computers.notebook|      hp| 580.89|550050854|7c90fc70-0e80-459...|\n",
      "|2019-09-30 20:00:19|      view|   1005135|2053013555631882655|electronics.smart...|   apple|1747.79|535871217|c6bd7419-2748-4c5...|\n",
      "+-------------------+----------+----------+-------------------+--------------------+--------+-------+---------+--------------------+\n",
      "only showing top 20 rows\n"
     ]
    }
   ],
   "source": [
    "print(\"Complete Data loaded:\")\n",
    "df_all.show(20)"
   ]
  },
  {
   "cell_type": "markdown",
   "id": "a38f2bc0-621b-4975-9efe-9e5ce06b50be",
   "metadata": {},
   "source": [
    "### Count the number of rows"
   ]
  },
  {
   "cell_type": "code",
   "execution_count": 7,
   "id": "992a35df-5131-4750-8b81-f7fd490d1903",
   "metadata": {},
   "outputs": [
    {
     "name": "stderr",
     "output_type": "stream",
     "text": [
      "[Stage 6:================================================>      (96 + 12) / 110]\r"
     ]
    },
    {
     "name": "stdout",
     "output_type": "stream",
     "text": [
      "Dataset size:  109950743\n"
     ]
    },
    {
     "name": "stderr",
     "output_type": "stream",
     "text": [
      "                                                                                \r"
     ]
    }
   ],
   "source": [
    "print(\"Dataset size: \", df_all.count())"
   ]
  },
  {
   "cell_type": "markdown",
   "id": "20138af5-fc24-411b-a34d-60dab548ebdf",
   "metadata": {},
   "source": [
    "## 2.Data Preprocessing"
   ]
  },
  {
   "cell_type": "code",
   "execution_count": 8,
   "id": "7f7345e6-f8af-4d5e-bd9b-3bf89a37c12b",
   "metadata": {},
   "outputs": [],
   "source": [
    "from pyspark.sql.functions import col, sum, count, when, rand, max as spark_max, to_date, coalesce, lit, max"
   ]
  },
  {
   "cell_type": "markdown",
   "id": "8d91521d-79b6-4c1a-80d6-8123e46e41f5",
   "metadata": {},
   "source": [
    "#### Inspect missing values"
   ]
  },
  {
   "cell_type": "code",
   "execution_count": 9,
   "id": "7ce298c4-e385-4c70-b51e-cf0ac10cdf20",
   "metadata": {},
   "outputs": [
    {
     "name": "stdout",
     "output_type": "stream",
     "text": [
      "Missing values in the dataset:\n"
     ]
    },
    {
     "name": "stderr",
     "output_type": "stream",
     "text": [
      "[Stage 9:======================================================>(109 + 1) / 110]\r"
     ]
    },
    {
     "name": "stdout",
     "output_type": "stream",
     "text": [
      "+----------+----------+----------+-----------+-------------+--------+-----+-------+------------+\n",
      "|event_time|event_type|product_id|category_id|category_code|   brand|price|user_id|user_session|\n",
      "+----------+----------+----------+-----------+-------------+--------+-----+-------+------------+\n",
      "|         0|         0|         0|          0|     35413780|15331243|    0|      0|          12|\n",
      "+----------+----------+----------+-----------+-------------+--------+-----+-------+------------+\n",
      "\n"
     ]
    },
    {
     "name": "stderr",
     "output_type": "stream",
     "text": [
      "                                                                                \r"
     ]
    }
   ],
   "source": [
    "print(\"Missing values in the dataset:\")\n",
    "df_all.select([\n",
    "    sum(col(c).isNull().cast(\"int\")).alias(c) for c in df_all.columns\n",
    "]).show()"
   ]
  },
  {
   "cell_type": "markdown",
   "id": "e92cda5b-2539-43a4-aaac-3e4b8c473175",
   "metadata": {},
   "source": [
    "#### Handling missing values"
   ]
  },
  {
   "cell_type": "code",
   "execution_count": 10,
   "id": "bddcb8b5-1022-441c-9c77-20c2119b56aa",
   "metadata": {},
   "outputs": [],
   "source": [
    "df_all = df_all \\\n",
    "    .withColumn(\"category_code\", coalesce(col(\"category_code\"), lit(\"unknown\"))) \\\n",
    "    .withColumn(\"brand\", coalesce(col(\"brand\"), lit(\"unknown\")))\n",
    "\n",
    "df_all = df_all.na.drop(subset=[\"price\"])"
   ]
  },
  {
   "cell_type": "code",
   "execution_count": 11,
   "id": "657e530d-8789-4918-bf7d-26d805b5e09d",
   "metadata": {},
   "outputs": [],
   "source": [
    "df_all = df_all.na.drop(subset=[\"user_session\"])"
   ]
  },
  {
   "cell_type": "code",
   "execution_count": 12,
   "id": "4d65202d-dcd4-41e3-9ba0-9b5088d13469",
   "metadata": {},
   "outputs": [
    {
     "name": "stdout",
     "output_type": "stream",
     "text": [
      "Missing values in the dataset after preprocessing:\n"
     ]
    },
    {
     "name": "stderr",
     "output_type": "stream",
     "text": [
      "[Stage 12:=====================================================>(109 + 1) / 110]\r"
     ]
    },
    {
     "name": "stdout",
     "output_type": "stream",
     "text": [
      "+----------+----------+----------+-----------+-------------+-----+-----+-------+------------+\n",
      "|event_time|event_type|product_id|category_id|category_code|brand|price|user_id|user_session|\n",
      "+----------+----------+----------+-----------+-------------+-----+-----+-------+------------+\n",
      "|         0|         0|         0|          0|            0|    0|    0|      0|           0|\n",
      "+----------+----------+----------+-----------+-------------+-----+-----+-------+------------+\n",
      "\n"
     ]
    },
    {
     "name": "stderr",
     "output_type": "stream",
     "text": [
      "                                                                                \r"
     ]
    }
   ],
   "source": [
    "print(\"Missing values in the dataset after preprocessing:\")\n",
    "df_all.select([\n",
    "    sum(col(c).isNull().cast(\"int\")).alias(c) for c in df_all.columns\n",
    "]).show()"
   ]
  },
  {
   "cell_type": "code",
   "execution_count": 13,
   "id": "c25128b6-3c17-488f-a9a2-f215d542c81a",
   "metadata": {},
   "outputs": [
    {
     "name": "stderr",
     "output_type": "stream",
     "text": [
      "[Stage 15:=====================================================>(109 + 1) / 110]\r"
     ]
    },
    {
     "name": "stdout",
     "output_type": "stream",
     "text": [
      "Datafram size after handling the missing values: 109950731\n"
     ]
    },
    {
     "name": "stderr",
     "output_type": "stream",
     "text": [
      "                                                                                \r"
     ]
    }
   ],
   "source": [
    "print(\"Datafram size after handling the missing values:\", df_all.count())"
   ]
  },
  {
   "cell_type": "markdown",
   "id": "dcc3caf7-684c-4245-a967-a1a83df618ca",
   "metadata": {},
   "source": [
    "#### Filter Relevant Events\n",
    "\n",
    "For A/B testing, user behavior funnel matters.\n",
    "\n",
    "view --> cart --> purchase"
   ]
  },
  {
   "cell_type": "code",
   "execution_count": 14,
   "id": "5aa58e06-3b6e-459b-b057-9a08b634f385",
   "metadata": {},
   "outputs": [],
   "source": [
    "df_all = df_all.filter(col(\"event_type\").isin([\"view\", \"cart\", \"purchase\"]))"
   ]
  },
  {
   "cell_type": "markdown",
   "id": "a2c012da-8e66-4502-ba4e-5c05e11a3e4b",
   "metadata": {},
   "source": [
    "#### Extract Date"
   ]
  },
  {
   "cell_type": "code",
   "execution_count": 15,
   "id": "2887e2e2-1167-4ece-a9f6-ea124b74d488",
   "metadata": {},
   "outputs": [],
   "source": [
    "df_all = df_all.withColumn(\"event_date\", to_date(\"event_time\"))"
   ]
  },
  {
   "cell_type": "markdown",
   "id": "4b559faa-a993-4fba-9ef1-bea588b419c7",
   "metadata": {},
   "source": [
    "#### Assign A/B Groups"
   ]
  },
  {
   "cell_type": "code",
   "execution_count": 16,
   "id": "cceb7c15-8325-4111-b263-f4d3f911acb1",
   "metadata": {},
   "outputs": [],
   "source": [
    "user_groups = df_all.select(\"user_id\").distinct() \\\n",
    "    .withColumn(\"group\", when(rand() < 0.5, \"A\").otherwise(\"B\"))\n",
    "\n",
    "df_all = df_all.join(user_groups, on=\"user_id\", how=\"left\")"
   ]
  },
  {
   "cell_type": "markdown",
   "id": "68642b69-88c3-4aaa-9b4f-0b2bb8c46292",
   "metadata": {},
   "source": [
    "#### Define Conversion\n",
    "\n",
    "Conversion = at least one purchase in a session."
   ]
  },
  {
   "cell_type": "code",
   "execution_count": 17,
   "id": "ceb0bb78-4d29-4f11-b158-9c6440de3962",
   "metadata": {},
   "outputs": [],
   "source": [
    "conversion = df_all.groupBy(\"user_id\", \"group\", \"event_date\") \\\n",
    "    .agg(\n",
    "        max(when(col(\"event_type\") == \"purchase\", 1).otherwise(0)).alias(\"converted\")\n",
    "    )"
   ]
  },
  {
   "cell_type": "markdown",
   "id": "ee928514-0cde-47ef-a642-011ca8ce16fb",
   "metadata": {},
   "source": [
    "#### Aggregate for Group-Level Metrics"
   ]
  },
  {
   "cell_type": "code",
   "execution_count": 18,
   "id": "c1f8f501-5166-422a-bdda-2a1a1b46a069",
   "metadata": {},
   "outputs": [
    {
     "name": "stderr",
     "output_type": "stream",
     "text": [
      "[Stage 22:===================================================>    (12 + 1) / 13]\r"
     ]
    },
    {
     "name": "stdout",
     "output_type": "stream",
     "text": [
      "+-----+-----------+-----------+-------------------+\n",
      "|group|conversions|total_users|    conversion_rate|\n",
      "+-----+-----------+-----------+-------------------+\n",
      "|    B|     583963|    7575349|0.07708727347083283|\n",
      "|    A|     587907|    7587288|0.07748578938877765|\n",
      "+-----+-----------+-----------+-------------------+\n",
      "\n"
     ]
    },
    {
     "name": "stderr",
     "output_type": "stream",
     "text": [
      "                                                                                \r"
     ]
    }
   ],
   "source": [
    "summary = conversion.groupBy(\"group\") \\\n",
    "    .agg(\n",
    "        sum(\"converted\").alias(\"conversions\"),\n",
    "        count(\"user_id\").alias(\"total_users\")\n",
    "    )\n",
    "\n",
    "summary = summary.withColumn(\"conversion_rate\", col(\"conversions\")/col(\"total_users\"))\n",
    "summary.show()"
   ]
  },
  {
   "cell_type": "markdown",
   "id": "6ef18ae2-c90d-407f-9843-d6802f800c6c",
   "metadata": {},
   "source": [
    "## 3.Statistical Hypothesis Testing"
   ]
  },
  {
   "cell_type": "code",
   "execution_count": 19,
   "id": "f3ce6a3b-2cd0-4b4c-9b52-85d20608a57c",
   "metadata": {},
   "outputs": [],
   "source": [
    "import pandas as pd\n",
    "from scipy.stats import chi2_contingency\n",
    "from statsmodels.stats.proportion import proportions_ztest"
   ]
  },
  {
   "cell_type": "code",
   "execution_count": 20,
   "id": "3de9b05f-f976-42f0-a6dd-4866458486c2",
   "metadata": {},
   "outputs": [],
   "source": [
    "conversions_A = 348659\n",
    "users_A = 2657570\n",
    "\n",
    "conversions_B = 348811\n",
    "users_B = 2659079"
   ]
  },
  {
   "cell_type": "code",
   "execution_count": 21,
   "id": "02904cec-f894-451b-b216-b8bfbf86c389",
   "metadata": {},
   "outputs": [],
   "source": [
    "# Building contingency table for Chi-square test\n",
    "data = [\n",
    "    [conversions_A, users_A - conversions_A],  # Group A\n",
    "    [conversions_B, users_B - conversions_B]   # Group B\n",
    "]"
   ]
  },
  {
   "cell_type": "code",
   "execution_count": 22,
   "id": "163806e4-c09d-4d97-bd52-a910fb341772",
   "metadata": {},
   "outputs": [
    {
     "name": "stdout",
     "output_type": "stream",
     "text": [
      "Contingency Table:\n",
      "         Converted  Not Converted\n",
      "Group A     348659        2308911\n",
      "Group B     348811        2310268\n"
     ]
    }
   ],
   "source": [
    "table = pd.DataFrame(\n",
    "    data,\n",
    "    columns=[\"Converted\", \"Not Converted\"],\n",
    "    index=[\"Group A\", \"Group B\"]\n",
    ")\n",
    "\n",
    "print(\"Contingency Table:\")\n",
    "print(table)"
   ]
  },
  {
   "cell_type": "code",
   "execution_count": 23,
   "id": "da568cd8-67cc-48ea-89c3-35a382be91e2",
   "metadata": {},
   "outputs": [
    {
     "name": "stdout",
     "output_type": "stream",
     "text": [
      "\n",
      "Chi-Square Test Results\n",
      "Chi2 Statistic: 0.003335757486803909\n",
      "Degrees of Freedom: 1\n",
      "p-value: 0.9539429730990618\n"
     ]
    }
   ],
   "source": [
    "# Chi-Square Test\n",
    "chi2, p_chi, dof, expected = chi2_contingency(table)\n",
    "print(\"\\nChi-Square Test Results\")\n",
    "print(\"Chi2 Statistic:\", chi2)\n",
    "print(\"Degrees of Freedom:\", dof)\n",
    "print(\"p-value:\", p_chi)"
   ]
  },
  {
   "cell_type": "code",
   "execution_count": 24,
   "id": "53c234cf-08f8-4f73-bb3d-a9886653f4e2",
   "metadata": {},
   "outputs": [
    {
     "name": "stdout",
     "output_type": "stream",
     "text": [
      "\n",
      "Two-Proportion Z-Test Results\n",
      "Z-Statistic: 0.059040634436065685\n",
      "p-value: 0.952919742943726\n"
     ]
    }
   ],
   "source": [
    "# Two-Proportion Z-Test\n",
    "conversions = [conversions_A, conversions_B]\n",
    "totals = [users_A, users_B]\n",
    "\n",
    "z_stat, p_z = proportions_ztest(conversions, totals)\n",
    "print(\"\\nTwo-Proportion Z-Test Results\")\n",
    "print(\"Z-Statistic:\", z_stat)\n",
    "print(\"p-value:\", p_z)"
   ]
  },
  {
   "cell_type": "code",
   "execution_count": 25,
   "id": "1538ad12-60df-405e-90a8-33cdb9351d83",
   "metadata": {},
   "outputs": [
    {
     "name": "stdout",
     "output_type": "stream",
     "text": [
      "Conclusion: Fail to Reject H0 → No significant difference between groups.\n"
     ]
    }
   ],
   "source": [
    "# Interpretation\n",
    "alpha = 0.05\n",
    "if p_z < alpha:\n",
    "    print(\"Conclusion: Reject H0 → Conversion rates differ significantly between groups.\")\n",
    "else:\n",
    "    print(\"Conclusion: Fail to Reject H0 → No significant difference between groups.\")"
   ]
  },
  {
   "cell_type": "markdown",
   "id": "1cb7dcdd-58bc-4712-adf8-1dc61598f8bb",
   "metadata": {},
   "source": [
    "### **Interpretation:**\n",
    "\n",
    "- The observed conversion rates for Group A (\\~13.12%) and Group B (\\~13.18%) are statistically indistinguishable. This is expected, because the user are split randomly into A/B groups without introducing an actual “new feature\".\n",
    "- If a product change (e.g., new checkout feature) is introduced to Group B, then on running the same analysis,it would be possible to test if that feature truly lifted conversions."
   ]
  },
  {
   "cell_type": "markdown",
   "id": "dc7987b7-35ca-45a9-8147-2eb37ca3b84a",
   "metadata": {},
   "source": [
    "## Saving the data"
   ]
  },
  {
   "cell_type": "code",
   "execution_count": 26,
   "id": "eb94dec2-3b95-4a6f-8543-91daf2bd2ba1",
   "metadata": {},
   "outputs": [
    {
     "name": "stderr",
     "output_type": "stream",
     "text": [
      "[Stage 40:===================================================>    (12 + 1) / 13]\r"
     ]
    },
    {
     "name": "stdout",
     "output_type": "stream",
     "text": [
      "CSV files exported successfully!\n"
     ]
    },
    {
     "name": "stderr",
     "output_type": "stream",
     "text": [
      "                                                                                \r"
     ]
    }
   ],
   "source": [
    "# Group-level summary (already works fine)\n",
    "summary_pd = summary.toPandas()\n",
    "summary_pd.to_csv(\"outputs/group_summary.csv\", index=False)\n",
    "\n",
    "# Daily conversion summary\n",
    "daily_summary = conversion.groupBy(\"event_date\", \"group\") \\\n",
    "    .agg(\n",
    "        sum(\"converted\").alias(\"conversions\"),\n",
    "        count(\"user_id\").alias(\"total_users\")\n",
    "    ) \\\n",
    "    .withColumn(\"conversion_rate\", col(\"conversions\")/col(\"total_users\"))\n",
    "\n",
    "daily_summary_pd = daily_summary.toPandas()\n",
    "daily_summary_pd.to_csv(\"outputs/daily_summary.csv\", index=False)\n",
    "\n",
    "print(\"CSV files exported successfully!\")"
   ]
  },
  {
   "cell_type": "code",
   "execution_count": null,
   "id": "71b59346-e3d9-4c8c-a418-3670262021c2",
   "metadata": {},
   "outputs": [],
   "source": []
  }
 ],
 "metadata": {
  "kernelspec": {
   "display_name": "Python 3 (ipykernel)",
   "language": "python",
   "name": "python3"
  },
  "language_info": {
   "codemirror_mode": {
    "name": "ipython",
    "version": 3
   },
   "file_extension": ".py",
   "mimetype": "text/x-python",
   "name": "python",
   "nbconvert_exporter": "python",
   "pygments_lexer": "ipython3",
   "version": "3.12.7"
  }
 },
 "nbformat": 4,
 "nbformat_minor": 5
}
